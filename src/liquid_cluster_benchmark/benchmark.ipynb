{
 "cells": [
  {
   "cell_type": "markdown",
   "metadata": {
    "application/vnd.databricks.v1+cell": {
     "cellMetadata": {},
     "inputWidgets": {},
     "nuid": "80e166d9-7877-4eb9-b090-9b811b729520",
     "showTitle": false,
     "title": ""
    }
   },
   "source": [
    "# Liquid Clustering Performance Benchmark\n",
    "\n",
    "Databricks introduced [Liquid Clustering](https://learn.microsoft.com/en-us/azure/databricks/delta/clustering) back in [June 2023](https://www.databricks.com/blog/announcing-delta-lake-30-new-universal-format-and-liquid-clustering). The feature is intend to replace table partition and z-order, making perfomance tuning on Delta table easier. Databricks cites a 2.5x increase on point queries on liquid clustered tables.\n",
    "\n",
    "In this benchmark, we will use real queries in the data lake to compare if liquid cluster will provide improvements in our query performance."
   ]
  },
  {
   "cell_type": "code",
   "execution_count": null,
   "metadata": {
    "application/vnd.databricks.v1+cell": {
     "cellMetadata": {
      "byteLimit": 2048000,
      "rowLimit": 10000
     },
     "inputWidgets": {},
     "nuid": "f21d39ce-ecdf-44e5-a85f-b09a5373b34b",
     "showTitle": false,
     "title": ""
    }
   },
   "outputs": [],
   "source": [
    "import re\n",
    "import time\n",
    "from pathlib import Path\n",
    "\n",
    "import numpy as np\n",
    "import pandas as pd\n",
    "import seaborn as sns\n",
    "from scipy import stats\n",
    "\n",
    "sns.set_style(\"ticks\")\n"
   ]
  },
  {
   "cell_type": "markdown",
   "metadata": {
    "application/vnd.databricks.v1+cell": {
     "cellMetadata": {},
     "inputWidgets": {},
     "nuid": "fc4e5c72-beb4-4bd4-ba34-0ed39ba21581",
     "showTitle": false,
     "title": ""
    }
   },
   "source": [
    "## Preparation\n",
    "\n",
    "We choose `SELECT` queries from Cosmos on the `telemetry_v1` table as our samples. We will use queries from 2023-11-20 to 2023-11-26, with duplicated queries remove, to run the benchmark. (See `liquid_cluster_benchmark/query_history.py` for how we collected the samples.)"
   ]
  },
  {
   "cell_type": "code",
   "execution_count": null,
   "metadata": {
    "application/vnd.databricks.v1+cell": {
     "cellMetadata": {
      "byteLimit": 2048000,
      "rowLimit": 10000
     },
     "inputWidgets": {},
     "nuid": "901b4cf9-23a4-4aef-b318-26ad4e554523",
     "showTitle": false,
     "title": ""
    }
   },
   "outputs": [
    {
     "name": "stdout",
     "output_type": "stream",
     "text": [
      "Number of examples: 1759\n"
     ]
    }
   ],
   "source": [
    "rng = np.random.default_rng(69420)\n",
    "\n",
    "\n",
    "class Samples:\n",
    "    def __init__(self, file_path, top=None):\n",
    "        queries = Path(file_path).read_text().split(\"\\n\")\n",
    "        top = top or len(queries)\n",
    "        self.queries = queries[:top]\n",
    "\n",
    "    def __len__(self):\n",
    "        return len(self.queries)\n",
    "\n",
    "    def shuffle(self):\n",
    "        rng.shuffle(self.queries)\n",
    "\n",
    "    @property\n",
    "    def classic(self):\n",
    "        for query in self.queries:\n",
    "            query.replace(\"cn_charger\", \"test_ds2023q4\").replace(\n",
    "                \"telemetry_v1\", \"telemetry_v1_classic\"\n",
    "            )\n",
    "            yield query\n",
    "\n",
    "    @property\n",
    "    def liquid(self):\n",
    "        for query in self.queries:\n",
    "            query.replace(\"cn_charger\", \"test_ds2023q4\").replace(\n",
    "                \"telemetry_v1\", \"telemetry_v1_liquid\"\n",
    "            )\n",
    "            yield query\n",
    "\n",
    "\n",
    "samples = Samples(\"/Workspace/Users/david.chu@wallbox.com/queries.txt\")\n",
    "samples.shuffle()\n",
    "print(\"Number of examples:\", len(samples))\n"
   ]
  },
  {
   "cell_type": "markdown",
   "metadata": {
    "application/vnd.databricks.v1+cell": {
     "cellMetadata": {},
     "inputWidgets": {},
     "nuid": "a38a46b2-084c-4537-9f24-a8fb71ea9d5b",
     "showTitle": false,
     "title": ""
    }
   },
   "source": [
    "The benchmark will be run on two tables:\n",
    "\n",
    "* `telemetry_v1_classic` mimics our production CN telemetry_v1 table. It is partitioned by `besiness_date` and z-ordered by `charger_id`.\n",
    "* `telemetry_v1_liquid` uses liquid clustering on `charger_id` and `besiness_date`. According to the document, the order of cluster column doesn't matter.\n",
    "\n",
    "Both table have the same data, 34,146,652,534 rows from `dataprod.cn_charger.telemetry_v1` bewtween 20231120 and 20231127. (See `liquid_cluster_benchmark/create_test_data.sql` for how we created the tables.) 73% or 1,285 "
   ]
  },
  {
   "cell_type": "code",
   "execution_count": null,
   "metadata": {
    "application/vnd.databricks.v1+cell": {
     "cellMetadata": {
      "byteLimit": 2048000,
      "implicitDf": true,
      "rowLimit": 10000
     },
     "inputWidgets": {},
     "nuid": "f5ff66db-93ab-4e14-a602-3f58600d6d67",
     "showTitle": false,
     "title": ""
    }
   },
   "outputs": [
    {
     "data": {
      "text/html": [
       "<style scoped>\n",
       "  .table-result-container {\n",
       "    max-height: 300px;\n",
       "    overflow: auto;\n",
       "  }\n",
       "  table, th, td {\n",
       "    border: 1px solid black;\n",
       "    border-collapse: collapse;\n",
       "  }\n",
       "  th, td {\n",
       "    padding: 5px;\n",
       "  }\n",
       "  th {\n",
       "    text-align: left;\n",
       "  }\n",
       "</style><div class='table-result-container'><table class='table-result'><thead style='background-color: white'><tr><th>format</th><th>id</th><th>name</th><th>description</th><th>location</th><th>createdAt</th><th>lastModified</th><th>partitionColumns</th><th>numFiles</th><th>sizeInBytes</th><th>properties</th><th>minReaderVersion</th><th>minWriterVersion</th><th>tableFeatures</th><th>statistics</th></tr></thead><tbody><tr><td>delta</td><td>29f5aaef-76cf-42a8-b432-bc1ef11c1946</td><td>datadev.test_ds2023q4.telemetry_v1_classic</td><td>null</td><td>s3://wallbox-datalake-sv-datadev/test_ds2023q4/telemetry_v1_classic/successful/1/part1</td><td>2023-11-29T11:08:43.684+0000</td><td>2023-11-29T12:23:58.000+0000</td><td>List(business_date)</td><td>10220</td><td>4989020805525</td><td>Map(delta.checkpoint.writeStatsAsStruct -> true, delta.checkpoint.writeStatsAsJson -> false)</td><td>1</td><td>2</td><td>List(appendOnly, invariants)</td><td>Map()</td></tr></tbody></table></div>"
      ]
     },
     "metadata": {
      "application/vnd.databricks.v1+output": {
       "addedWidgets": {},
       "aggData": [],
       "aggError": "",
       "aggOverflow": false,
       "aggSchema": [],
       "aggSeriesLimitReached": false,
       "aggType": "",
       "arguments": {},
       "columnCustomDisplayInfos": {},
       "data": [
        [
         "delta",
         "29f5aaef-76cf-42a8-b432-bc1ef11c1946",
         "datadev.test_ds2023q4.telemetry_v1_classic",
         null,
         "s3://wallbox-datalake-sv-datadev/test_ds2023q4/telemetry_v1_classic/successful/1/part1",
         "2023-11-29T11:08:43.684+0000",
         "2023-11-29T12:23:58.000+0000",
         [
          "business_date"
         ],
         10220,
         4989020805525,
         {
          "delta.checkpoint.writeStatsAsJson": "false",
          "delta.checkpoint.writeStatsAsStruct": "true"
         },
         1,
         2,
         [
          "appendOnly",
          "invariants"
         ],
         {}
        ]
       ],
       "datasetInfos": [],
       "dbfsResultPath": null,
       "isJsonSchema": true,
       "metadata": {},
       "overflow": false,
       "plotOptions": {
        "customPlotOptions": {},
        "displayType": "table",
        "pivotAggregation": null,
        "pivotColumns": null,
        "xColumns": null,
        "yColumns": null
       },
       "removedWidgets": [],
       "schema": [
        {
         "metadata": "{}",
         "name": "format",
         "type": "\"string\""
        },
        {
         "metadata": "{}",
         "name": "id",
         "type": "\"string\""
        },
        {
         "metadata": "{}",
         "name": "name",
         "type": "\"string\""
        },
        {
         "metadata": "{}",
         "name": "description",
         "type": "\"string\""
        },
        {
         "metadata": "{}",
         "name": "location",
         "type": "\"string\""
        },
        {
         "metadata": "{}",
         "name": "createdAt",
         "type": "\"timestamp\""
        },
        {
         "metadata": "{}",
         "name": "lastModified",
         "type": "\"timestamp\""
        },
        {
         "metadata": "{}",
         "name": "partitionColumns",
         "type": "{\"type\":\"array\",\"elementType\":\"string\",\"containsNull\":true}"
        },
        {
         "metadata": "{}",
         "name": "numFiles",
         "type": "\"long\""
        },
        {
         "metadata": "{}",
         "name": "sizeInBytes",
         "type": "\"long\""
        },
        {
         "metadata": "{}",
         "name": "properties",
         "type": "{\"type\":\"map\",\"keyType\":\"string\",\"valueType\":\"string\",\"valueContainsNull\":true}"
        },
        {
         "metadata": "{}",
         "name": "minReaderVersion",
         "type": "\"integer\""
        },
        {
         "metadata": "{}",
         "name": "minWriterVersion",
         "type": "\"integer\""
        },
        {
         "metadata": "{}",
         "name": "tableFeatures",
         "type": "{\"type\":\"array\",\"elementType\":\"string\",\"containsNull\":true}"
        },
        {
         "metadata": "{}",
         "name": "statistics",
         "type": "{\"type\":\"map\",\"keyType\":\"string\",\"valueType\":\"long\",\"valueContainsNull\":true}"
        }
       ],
       "type": "table"
      }
     },
     "output_type": "display_data"
    }
   ],
   "source": [
    "%sql\n",
    "DESCRIBE DETAIL datadev.test_ds2023q4.telemetry_v1_classic\n"
   ]
  },
  {
   "cell_type": "code",
   "execution_count": null,
   "metadata": {
    "application/vnd.databricks.v1+cell": {
     "cellMetadata": {
      "byteLimit": 2048000,
      "implicitDf": true,
      "rowLimit": 10000
     },
     "inputWidgets": {},
     "nuid": "2844a25a-c374-46c1-88fd-0467aa82bf6f",
     "showTitle": false,
     "title": ""
    }
   },
   "outputs": [
    {
     "data": {
      "text/plain": [
       "\u001b[0;31m---------------------------------------------------------------------------\u001b[0m\n",
       "\u001b[0;31mPy4JJavaError\u001b[0m                             Traceback (most recent call last)\n",
       "File \u001b[0;32m<command-1510586113217814>:7\u001b[0m\n",
       "\u001b[1;32m      5\u001b[0m     display(df)\n",
       "\u001b[1;32m      6\u001b[0m     \u001b[38;5;28;01mreturn\u001b[39;00m df\n",
       "\u001b[0;32m----> 7\u001b[0m   _sqldf \u001b[38;5;241m=\u001b[39m \u001b[43m____databricks_percent_sql\u001b[49m\u001b[43m(\u001b[49m\u001b[43m)\u001b[49m\n",
       "\u001b[1;32m      8\u001b[0m \u001b[38;5;28;01mfinally\u001b[39;00m:\n",
       "\u001b[1;32m      9\u001b[0m   \u001b[38;5;28;01mdel\u001b[39;00m ____databricks_percent_sql\n",
       "\n",
       "File \u001b[0;32m<command-1510586113217814>:4\u001b[0m, in \u001b[0;36m____databricks_percent_sql\u001b[0;34m()\u001b[0m\n",
       "\u001b[1;32m      2\u001b[0m \u001b[38;5;28;01mdef\u001b[39;00m \u001b[38;5;21m____databricks_percent_sql\u001b[39m():\n",
       "\u001b[1;32m      3\u001b[0m   \u001b[38;5;28;01mimport\u001b[39;00m \u001b[38;5;21;01mbase64\u001b[39;00m\n",
       "\u001b[0;32m----> 4\u001b[0m   df \u001b[38;5;241m=\u001b[39m \u001b[43mspark\u001b[49m\u001b[38;5;241;43m.\u001b[39;49m\u001b[43msql\u001b[49m\u001b[43m(\u001b[49m\u001b[43mbase64\u001b[49m\u001b[38;5;241;43m.\u001b[39;49m\u001b[43mstandard_b64decode\u001b[49m\u001b[43m(\u001b[49m\u001b[38;5;124;43m\"\u001b[39;49m\u001b[38;5;124;43mREVTQyBkYXRhZGV2LnRlc3RfZHMyMDIzcTQudGVsZW1ldHJ5X3YxX2xpcXVpZA==\u001b[39;49m\u001b[38;5;124;43m\"\u001b[39;49m\u001b[43m)\u001b[49m\u001b[38;5;241;43m.\u001b[39;49m\u001b[43mdecode\u001b[49m\u001b[43m(\u001b[49m\u001b[43m)\u001b[49m\u001b[43m)\u001b[49m\n",
       "\u001b[1;32m      5\u001b[0m   display(df)\n",
       "\u001b[1;32m      6\u001b[0m   \u001b[38;5;28;01mreturn\u001b[39;00m df\n",
       "\n",
       "File \u001b[0;32m/databricks/spark/python/pyspark/instrumentation_utils.py:48\u001b[0m, in \u001b[0;36m_wrap_function.<locals>.wrapper\u001b[0;34m(*args, **kwargs)\u001b[0m\n",
       "\u001b[1;32m     46\u001b[0m start \u001b[38;5;241m=\u001b[39m time\u001b[38;5;241m.\u001b[39mperf_counter()\n",
       "\u001b[1;32m     47\u001b[0m \u001b[38;5;28;01mtry\u001b[39;00m:\n",
       "\u001b[0;32m---> 48\u001b[0m     res \u001b[38;5;241m=\u001b[39m \u001b[43mfunc\u001b[49m\u001b[43m(\u001b[49m\u001b[38;5;241;43m*\u001b[39;49m\u001b[43margs\u001b[49m\u001b[43m,\u001b[49m\u001b[43m \u001b[49m\u001b[38;5;241;43m*\u001b[39;49m\u001b[38;5;241;43m*\u001b[39;49m\u001b[43mkwargs\u001b[49m\u001b[43m)\u001b[49m\n",
       "\u001b[1;32m     49\u001b[0m     logger\u001b[38;5;241m.\u001b[39mlog_success(\n",
       "\u001b[1;32m     50\u001b[0m         module_name, class_name, function_name, time\u001b[38;5;241m.\u001b[39mperf_counter() \u001b[38;5;241m-\u001b[39m start, signature\n",
       "\u001b[1;32m     51\u001b[0m     )\n",
       "\u001b[1;32m     52\u001b[0m     \u001b[38;5;28;01mreturn\u001b[39;00m res\n",
       "\n",
       "File \u001b[0;32m/databricks/spark/python/pyspark/sql/session.py:1387\u001b[0m, in \u001b[0;36mSparkSession.sql\u001b[0;34m(self, sqlQuery, args, **kwargs)\u001b[0m\n",
       "\u001b[1;32m   1385\u001b[0m \u001b[38;5;28;01mtry\u001b[39;00m:\n",
       "\u001b[1;32m   1386\u001b[0m     litArgs \u001b[38;5;241m=\u001b[39m {k: _to_java_column(lit(v)) \u001b[38;5;28;01mfor\u001b[39;00m k, v \u001b[38;5;129;01min\u001b[39;00m (args \u001b[38;5;129;01mor\u001b[39;00m {})\u001b[38;5;241m.\u001b[39mitems()}\n",
       "\u001b[0;32m-> 1387\u001b[0m     \u001b[38;5;28;01mreturn\u001b[39;00m DataFrame(\u001b[38;5;28;43mself\u001b[39;49m\u001b[38;5;241;43m.\u001b[39;49m\u001b[43m_jsparkSession\u001b[49m\u001b[38;5;241;43m.\u001b[39;49m\u001b[43msql\u001b[49m\u001b[43m(\u001b[49m\u001b[43msqlQuery\u001b[49m\u001b[43m,\u001b[49m\u001b[43m \u001b[49m\u001b[43mlitArgs\u001b[49m\u001b[43m)\u001b[49m, \u001b[38;5;28mself\u001b[39m)\n",
       "\u001b[1;32m   1388\u001b[0m \u001b[38;5;28;01mfinally\u001b[39;00m:\n",
       "\u001b[1;32m   1389\u001b[0m     \u001b[38;5;28;01mif\u001b[39;00m \u001b[38;5;28mlen\u001b[39m(kwargs) \u001b[38;5;241m>\u001b[39m \u001b[38;5;241m0\u001b[39m:\n",
       "\n",
       "File \u001b[0;32m/databricks/spark/python/lib/py4j-0.10.9.5-src.zip/py4j/java_gateway.py:1321\u001b[0m, in \u001b[0;36mJavaMember.__call__\u001b[0;34m(self, *args)\u001b[0m\n",
       "\u001b[1;32m   1315\u001b[0m command \u001b[38;5;241m=\u001b[39m proto\u001b[38;5;241m.\u001b[39mCALL_COMMAND_NAME \u001b[38;5;241m+\u001b[39m\\\n",
       "\u001b[1;32m   1316\u001b[0m     \u001b[38;5;28mself\u001b[39m\u001b[38;5;241m.\u001b[39mcommand_header \u001b[38;5;241m+\u001b[39m\\\n",
       "\u001b[1;32m   1317\u001b[0m     args_command \u001b[38;5;241m+\u001b[39m\\\n",
       "\u001b[1;32m   1318\u001b[0m     proto\u001b[38;5;241m.\u001b[39mEND_COMMAND_PART\n",
       "\u001b[1;32m   1320\u001b[0m answer \u001b[38;5;241m=\u001b[39m \u001b[38;5;28mself\u001b[39m\u001b[38;5;241m.\u001b[39mgateway_client\u001b[38;5;241m.\u001b[39msend_command(command)\n",
       "\u001b[0;32m-> 1321\u001b[0m return_value \u001b[38;5;241m=\u001b[39m \u001b[43mget_return_value\u001b[49m\u001b[43m(\u001b[49m\n",
       "\u001b[1;32m   1322\u001b[0m \u001b[43m    \u001b[49m\u001b[43manswer\u001b[49m\u001b[43m,\u001b[49m\u001b[43m \u001b[49m\u001b[38;5;28;43mself\u001b[39;49m\u001b[38;5;241;43m.\u001b[39;49m\u001b[43mgateway_client\u001b[49m\u001b[43m,\u001b[49m\u001b[43m \u001b[49m\u001b[38;5;28;43mself\u001b[39;49m\u001b[38;5;241;43m.\u001b[39;49m\u001b[43mtarget_id\u001b[49m\u001b[43m,\u001b[49m\u001b[43m \u001b[49m\u001b[38;5;28;43mself\u001b[39;49m\u001b[38;5;241;43m.\u001b[39;49m\u001b[43mname\u001b[49m\u001b[43m)\u001b[49m\n",
       "\u001b[1;32m   1324\u001b[0m \u001b[38;5;28;01mfor\u001b[39;00m temp_arg \u001b[38;5;129;01min\u001b[39;00m temp_args:\n",
       "\u001b[1;32m   1325\u001b[0m     temp_arg\u001b[38;5;241m.\u001b[39m_detach()\n",
       "\n",
       "File \u001b[0;32m/databricks/spark/python/pyspark/errors/exceptions.py:228\u001b[0m, in \u001b[0;36mcapture_sql_exception.<locals>.deco\u001b[0;34m(*a, **kw)\u001b[0m\n",
       "\u001b[1;32m    226\u001b[0m \u001b[38;5;28;01mdef\u001b[39;00m \u001b[38;5;21mdeco\u001b[39m(\u001b[38;5;241m*\u001b[39ma: Any, \u001b[38;5;241m*\u001b[39m\u001b[38;5;241m*\u001b[39mkw: Any) \u001b[38;5;241m-\u001b[39m\u001b[38;5;241m>\u001b[39m Any:\n",
       "\u001b[1;32m    227\u001b[0m     \u001b[38;5;28;01mtry\u001b[39;00m:\n",
       "\u001b[0;32m--> 228\u001b[0m         \u001b[38;5;28;01mreturn\u001b[39;00m \u001b[43mf\u001b[49m\u001b[43m(\u001b[49m\u001b[38;5;241;43m*\u001b[39;49m\u001b[43ma\u001b[49m\u001b[43m,\u001b[49m\u001b[43m \u001b[49m\u001b[38;5;241;43m*\u001b[39;49m\u001b[38;5;241;43m*\u001b[39;49m\u001b[43mkw\u001b[49m\u001b[43m)\u001b[49m\n",
       "\u001b[1;32m    229\u001b[0m     \u001b[38;5;28;01mexcept\u001b[39;00m Py4JJavaError \u001b[38;5;28;01mas\u001b[39;00m e:\n",
       "\u001b[1;32m    230\u001b[0m         converted \u001b[38;5;241m=\u001b[39m convert_exception(e\u001b[38;5;241m.\u001b[39mjava_exception)\n",
       "\n",
       "File \u001b[0;32m/databricks/spark/python/lib/py4j-0.10.9.5-src.zip/py4j/protocol.py:326\u001b[0m, in \u001b[0;36mget_return_value\u001b[0;34m(answer, gateway_client, target_id, name)\u001b[0m\n",
       "\u001b[1;32m    324\u001b[0m value \u001b[38;5;241m=\u001b[39m OUTPUT_CONVERTER[\u001b[38;5;28mtype\u001b[39m](answer[\u001b[38;5;241m2\u001b[39m:], gateway_client)\n",
       "\u001b[1;32m    325\u001b[0m \u001b[38;5;28;01mif\u001b[39;00m answer[\u001b[38;5;241m1\u001b[39m] \u001b[38;5;241m==\u001b[39m REFERENCE_TYPE:\n",
       "\u001b[0;32m--> 326\u001b[0m     \u001b[38;5;28;01mraise\u001b[39;00m Py4JJavaError(\n",
       "\u001b[1;32m    327\u001b[0m         \u001b[38;5;124m\"\u001b[39m\u001b[38;5;124mAn error occurred while calling \u001b[39m\u001b[38;5;132;01m{0}\u001b[39;00m\u001b[38;5;132;01m{1}\u001b[39;00m\u001b[38;5;132;01m{2}\u001b[39;00m\u001b[38;5;124m.\u001b[39m\u001b[38;5;130;01m\\n\u001b[39;00m\u001b[38;5;124m\"\u001b[39m\u001b[38;5;241m.\u001b[39m\n",
       "\u001b[1;32m    328\u001b[0m         \u001b[38;5;28mformat\u001b[39m(target_id, \u001b[38;5;124m\"\u001b[39m\u001b[38;5;124m.\u001b[39m\u001b[38;5;124m\"\u001b[39m, name), value)\n",
       "\u001b[1;32m    329\u001b[0m \u001b[38;5;28;01melse\u001b[39;00m:\n",
       "\u001b[1;32m    330\u001b[0m     \u001b[38;5;28;01mraise\u001b[39;00m Py4JError(\n",
       "\u001b[1;32m    331\u001b[0m         \u001b[38;5;124m\"\u001b[39m\u001b[38;5;124mAn error occurred while calling \u001b[39m\u001b[38;5;132;01m{0}\u001b[39;00m\u001b[38;5;132;01m{1}\u001b[39;00m\u001b[38;5;132;01m{2}\u001b[39;00m\u001b[38;5;124m. Trace:\u001b[39m\u001b[38;5;130;01m\\n\u001b[39;00m\u001b[38;5;132;01m{3}\u001b[39;00m\u001b[38;5;130;01m\\n\u001b[39;00m\u001b[38;5;124m\"\u001b[39m\u001b[38;5;241m.\u001b[39m\n",
       "\u001b[1;32m    332\u001b[0m         \u001b[38;5;28mformat\u001b[39m(target_id, \u001b[38;5;124m\"\u001b[39m\u001b[38;5;124m.\u001b[39m\u001b[38;5;124m\"\u001b[39m, name, value))\n",
       "\n",
       "\u001b[0;31mPy4JJavaError\u001b[0m: An error occurred while calling o390.sql.\n",
       ": com.databricks.sql.transaction.tahoe.DeltaTableFeatureException: Unable to read this table because it requires reader table feature(s) that are unsupported by this version of Databricks: v2Checkpoint.\n",
       "\tat com.databricks.sql.transaction.tahoe.DeltaErrorsBase.unsupportedReaderTableFeaturesInTableException(DeltaErrors.scala:2140)\n",
       "\tat com.databricks.sql.transaction.tahoe.DeltaErrorsBase.unsupportedReaderTableFeaturesInTableException$(DeltaErrors.scala:2136)\n",
       "\tat com.databricks.sql.transaction.tahoe.DeltaErrors$.unsupportedReaderTableFeaturesInTableException(DeltaErrors.scala:2744)\n",
       "\tat com.databricks.sql.transaction.tahoe.DeltaLog.$anonfun$protocolCheck$3(DeltaLog.scala:421)\n",
       "\tat com.databricks.sql.transaction.tahoe.DeltaLog.protocolCheck(DeltaLog.scala:438)\n",
       "\tat com.databricks.sql.transaction.tahoe.DeltaLog.protocolRead(DeltaLog.scala:472)\n",
       "\tat com.databricks.sql.transaction.tahoe.Snapshot.init(Snapshot.scala:132)\n",
       "\tat com.databricks.sql.transaction.tahoe.SnapshotEdge.init(SnapshotEdge.scala:238)\n",
       "\tat com.databricks.sql.transaction.tahoe.Snapshot.<init>(Snapshot.scala:570)\n",
       "\tat com.databricks.sql.transaction.tahoe.SnapshotEdge.<init>(SnapshotEdge.scala:88)\n",
       "\tat com.databricks.sql.transaction.tahoe.SnapshotManagementEdge.$anonfun$createSnapshot$5(SnapshotManagementEdge.scala:261)\n",
       "\tat com.databricks.sql.transaction.tahoe.SnapshotManagement.createSnapshotFromGivenOrEquivalentLogSegment(SnapshotManagement.scala:586)\n",
       "\tat com.databricks.sql.transaction.tahoe.SnapshotManagement.createSnapshotFromGivenOrEquivalentLogSegment$(SnapshotManagement.scala:574)\n",
       "\tat com.databricks.sql.transaction.tahoe.DeltaLog.createSnapshotFromGivenOrEquivalentLogSegment(DeltaLog.scala:92)\n",
       "\tat com.databricks.sql.transaction.tahoe.SnapshotManagementEdge.$anonfun$createSnapshot$1(SnapshotManagementEdge.scala:247)\n",
       "\tat com.databricks.spark.util.FrameProfiler$.record(FrameProfiler.scala:80)\n",
       "\tat com.databricks.sql.transaction.tahoe.SnapshotManagementEdge.createSnapshot(SnapshotManagementEdge.scala:243)\n",
       "\tat com.databricks.sql.transaction.tahoe.SnapshotManagementEdge.createSnapshot$(SnapshotManagementEdge.scala:238)\n",
       "\tat com.databricks.sql.transaction.tahoe.DeltaLog.createSnapshot(DeltaLog.scala:92)\n",
       "\tat com.databricks.sql.transaction.tahoe.SnapshotManagement.$anonfun$createSnapshotAtInitInternal$1(SnapshotManagement.scala:384)\n",
       "\tat scala.Option.map(Option.scala:230)\n",
       "\tat com.databricks.sql.transaction.tahoe.SnapshotManagement.createSnapshotAtInitInternal(SnapshotManagement.scala:379)\n",
       "\tat com.databricks.sql.transaction.tahoe.SnapshotManagement.createSnapshotAtInitInternal$(SnapshotManagement.scala:374)\n",
       "\tat com.databricks.sql.transaction.tahoe.DeltaLog.createSnapshotAtInitInternal(DeltaLog.scala:92)\n",
       "\tat com.databricks.sql.transaction.tahoe.SnapshotManagementEdge.$anonfun$getSnapshotAtInit$1(SnapshotManagementEdge.scala:352)\n",
       "\tat com.databricks.spark.util.FrameProfiler$.record(FrameProfiler.scala:80)\n",
       "\tat com.databricks.sql.transaction.tahoe.metering.DeltaLogging.recordFrameProfile(DeltaLogging.scala:265)\n",
       "\tat com.databricks.sql.transaction.tahoe.metering.DeltaLogging.recordFrameProfile$(DeltaLogging.scala:263)\n",
       "\tat com.databricks.sql.transaction.tahoe.DeltaLog.recordFrameProfile(DeltaLog.scala:92)\n",
       "\tat com.databricks.sql.transaction.tahoe.SnapshotManagementEdge.getSnapshotAtInit(SnapshotManagementEdge.scala:331)\n",
       "\tat com.databricks.sql.transaction.tahoe.SnapshotManagementEdge.getSnapshotAtInit$(SnapshotManagementEdge.scala:330)\n",
       "\tat com.databricks.sql.transaction.tahoe.DeltaLog.getSnapshotAtInit(DeltaLog.scala:92)\n",
       "\tat com.databricks.sql.transaction.tahoe.SnapshotManagement.$init$(SnapshotManagement.scala:75)\n",
       "\tat com.databricks.sql.transaction.tahoe.DeltaLog.<init>(DeltaLog.scala:99)\n",
       "\tat com.databricks.sql.transaction.tahoe.DeltaLog$.$anonfun$apply$5(DeltaLog.scala:1002)\n",
       "\tat org.apache.spark.sql.catalyst.plans.logical.AnalysisHelper$.allowInvokingTransformsInAnalyzer(AnalysisHelper.scala:372)\n",
       "\tat com.databricks.sql.transaction.tahoe.DeltaLog$.$anonfun$apply$4(DeltaLog.scala:994)\n",
       "\tat com.databricks.sql.transaction.tahoe.metering.DeltaLogging.withOperationTypeTag(DeltaLogging.scala:196)\n",
       "\tat com.databricks.sql.transaction.tahoe.metering.DeltaLogging.withOperationTypeTag$(DeltaLogging.scala:183)\n",
       "\tat com.databricks.sql.transaction.tahoe.DeltaLog$.withOperationTypeTag(DeltaLog.scala:719)\n",
       "\tat com.databricks.sql.transaction.tahoe.metering.DeltaLogging.$anonfun$recordDeltaOperationInternal$2(DeltaLogging.scala:160)\n",
       "\tat com.databricks.spark.util.FrameProfiler$.record(FrameProfiler.scala:80)\n",
       "\tat com.databricks.sql.transaction.tahoe.metering.DeltaLogging.recordFrameProfile(DeltaLogging.scala:265)\n",
       "\tat com.databricks.sql.transaction.tahoe.metering.DeltaLogging.recordFrameProfile$(DeltaLogging.scala:263)\n",
       "\tat com.databricks.sql.transaction.tahoe.DeltaLog$.recordFrameProfile(DeltaLog.scala:719)\n",
       "\tat com.databricks.sql.transaction.tahoe.metering.DeltaLogging.$anonfun$recordDeltaOperationInternal$1(DeltaLogging.scala:159)\n",
       "\tat com.databricks.logging.UsageLogging.$anonfun$recordOperation$1(UsageLogging.scala:557)\n",
       "\tat com.databricks.logging.UsageLogging.executeThunkAndCaptureResultTags$1(UsageLogging.scala:652)\n",
       "\tat com.databricks.logging.UsageLogging.$anonfun$recordOperationWithResultTags$4(UsageLogging.scala:673)\n",
       "\tat com.databricks.logging.UsageLogging.$anonfun$withAttributionContext$1(UsageLogging.scala:414)\n",
       "\tat scala.util.DynamicVariable.withValue(DynamicVariable.scala:62)\n",
       "\tat com.databricks.logging.AttributionContext$.withValue(AttributionContext.scala:158)\n",
       "\tat com.databricks.logging.UsageLogging.withAttributionContext(UsageLogging.scala:412)\n",
       "\tat com.databricks.logging.UsageLogging.withAttributionContext$(UsageLogging.scala:409)\n",
       "\tat com.databricks.spark.util.PublicDBLogging.withAttributionContext(DatabricksSparkUsageLogger.scala:25)\n",
       "\tat com.databricks.logging.UsageLogging.withAttributionTags(UsageLogging.scala:457)\n",
       "\tat com.databricks.logging.UsageLogging.withAttributionTags$(UsageLogging.scala:442)\n",
       "\tat com.databricks.spark.util.PublicDBLogging.withAttributionTags(DatabricksSparkUsageLogger.scala:25)\n",
       "\tat com.databricks.logging.UsageLogging.recordOperationWithResultTags(UsageLogging.scala:647)\n",
       "\tat com.databricks.logging.UsageLogging.recordOperationWithResultTags$(UsageLogging.scala:566)\n",
       "\tat com.databricks.spark.util.PublicDBLogging.recordOperationWithResultTags(DatabricksSparkUsageLogger.scala:25)\n",
       "\tat com.databricks.logging.UsageLogging.recordOperation(UsageLogging.scala:557)\n",
       "\tat com.databricks.logging.UsageLogging.recordOperation$(UsageLogging.scala:527)\n",
       "\tat com.databricks.spark.util.PublicDBLogging.recordOperation(DatabricksSparkUsageLogger.scala:25)\n",
       "\tat com.databricks.spark.util.PublicDBLogging.recordOperation0(DatabricksSparkUsageLogger.scala:65)\n",
       "\tat com.databricks.spark.util.DatabricksSparkUsageLogger.recordOperation(DatabricksSparkUsageLogger.scala:147)\n",
       "\tat com.databricks.spark.util.UsageLogger.recordOperation(UsageLogger.scala:72)\n",
       "\tat com.databricks.spark.util.UsageLogger.recordOperation$(UsageLogger.scala:59)\n",
       "\tat com.databricks.spark.util.DatabricksSparkUsageLogger.recordOperation(DatabricksSparkUsageLogger.scala:106)\n",
       "\tat com.databricks.spark.util.UsageLogging.recordOperation(UsageLogger.scala:433)\n",
       "\tat com.databricks.spark.util.UsageLogging.recordOperation$(UsageLogger.scala:412)\n",
       "\tat com.databricks.sql.transaction.tahoe.DeltaLog$.recordOperation(DeltaLog.scala:719)\n",
       "\tat com.databricks.sql.transaction.tahoe.metering.DeltaLogging.recordDeltaOperationInternal(DeltaLogging.scala:158)\n",
       "\tat com.databricks.sql.transaction.tahoe.metering.DeltaLogging.recordDeltaOperation(DeltaLogging.scala:148)\n",
       "\tat com.databricks.sql.transaction.tahoe.metering.DeltaLogging.recordDeltaOperation$(DeltaLogging.scala:138)\n",
       "\tat com.databricks.sql.transaction.tahoe.DeltaLog$.recordDeltaOperation(DeltaLog.scala:719)\n",
       "\tat com.databricks.sql.transaction.tahoe.DeltaLog$.createDeltaLog$1(DeltaLog.scala:994)\n",
       "\tat com.databricks.sql.transaction.tahoe.DeltaLog$.$anonfun$apply$7(DeltaLog.scala:1025)\n",
       "\tat com.databricks.unity.UCSEphemeralState$Handle.runWith(UCSEphemeralState.scala:41)\n",
       "\tat com.databricks.unity.HandleImpl.runWith(UCSHandle.scala:99)\n",
       "\tat com.databricks.sql.transaction.tahoe.DeltaLog$.$anonfun$apply$6(DeltaLog.scala:1025)\n",
       "\tat com.google.common.cache.LocalCache$LocalManualCache$1.load(LocalCache.java:4724)\n",
       "\tat com.google.common.cache.LocalCache$LoadingValueReference.loadFuture(LocalCache.java:3522)\n",
       "\tat com.google.common.cache.LocalCache$Segment.loadSync(LocalCache.java:2315)\n",
       "\tat com.google.common.cache.LocalCache$Segment.lockedGetOrLoad(LocalCache.java:2278)\n",
       "\tat com.google.common.cache.LocalCache$Segment.get(LocalCache.java:2193)\n",
       "\tat com.google.common.cache.LocalCache.get(LocalCache.java:3932)\n",
       "\tat com.google.common.cache.LocalCache$LocalManualCache.get(LocalCache.java:4721)\n",
       "\tat com.databricks.sql.transaction.tahoe.DeltaLog$.getDeltaLogFromCache$1(DeltaLog.scala:1023)\n",
       "\tat com.databricks.sql.transaction.tahoe.DeltaLog$.apply(DeltaLog.scala:1039)\n",
       "\tat com.databricks.sql.transaction.tahoe.DeltaLog$.forTable(DeltaLog.scala:911)\n",
       "\tat com.databricks.sql.transaction.tahoe.DeltaLog$.forTable(DeltaLog.scala:903)\n",
       "\tat com.databricks.sql.DatabricksSessionCatalog.$anonfun$getDeltaMetadata$3(DatabricksSessionCatalog.scala:168)\n",
       "\tat com.databricks.sql.transaction.tahoe.DeltaLog$.$anonfun$withAdditionalSnapshotInitializationUsageLogData$1(DeltaLog.scala:804)\n",
       "\tat org.apache.spark.util.Utils$.tryWithSafeFinally(Utils.scala:1713)\n",
       "\tat com.databricks.sql.transaction.tahoe.DeltaLog$.withAdditionalSnapshotInitializationUsageLogData(DeltaLog.scala:805)\n",
       "\tat com.databricks.sql.DatabricksSessionCatalog.getDeltaMetadata(DatabricksSessionCatalog.scala:167)\n",
       "\tat com.databricks.sql.DatabricksSessionCatalog.getTableRawMetadata(DatabricksSessionCatalog.scala:87)\n",
       "\tat com.databricks.sql.DatabricksSessionCatalog.getTableMetadata(DatabricksSessionCatalog.scala:93)\n",
       "\tat com.databricks.sql.transaction.tahoe.DeltaTableUtils$.isDeltaTable(DeltaTable.scala:140)\n",
       "\tat com.databricks.sql.transaction.tahoe.DeltaTableIdentifier$.$anonfun$apply$1(DeltaTableIdentifier.scala:127)\n",
       "\tat com.databricks.spark.util.FrameProfiler$.record(FrameProfiler.scala:80)\n",
       "\tat com.databricks.sql.transaction.tahoe.metering.DeltaLogging.recordFrameProfile(DeltaLogging.scala:265)\n",
       "\tat com.databricks.sql.transaction.tahoe.metering.DeltaLogging.recordFrameProfile$(DeltaLogging.scala:263)\n",
       "\tat com.databricks.sql.transaction.tahoe.DeltaTableIdentifier$.recordFrameProfile(DeltaTableIdentifier.scala:92)\n",
       "\tat com.databricks.sql.transaction.tahoe.DeltaTableIdentifier$.apply(DeltaTableIdentifier.scala:125)\n",
       "\tat com.databricks.sql.transaction.tahoe.DeltaAnalysisEdge$$anonfun$apply0$1.applyOrElse(DeltaAnalysisEdge.scala:333)\n",
       "\tat com.databricks.sql.transaction.tahoe.DeltaAnalysisEdge$$anonfun$apply0$1.applyOrElse(DeltaAnalysisEdge.scala:101)\n",
       "\tat org.apache.spark.sql.catalyst.plans.logical.AnalysisHelper.$anonfun$resolveOperatorsUpWithPruning$3(AnalysisHelper.scala:141)\n",
       "\tat org.apache.spark.sql.catalyst.trees.CurrentOrigin$.withOrigin(TreeNode.scala:106)\n",
       "\tat org.apache.spark.sql.catalyst.plans.logical.AnalysisHelper.$anonfun$resolveOperatorsUpWithPruning$1(AnalysisHelper.scala:141)\n",
       "\tat org.apache.spark.sql.catalyst.plans.logical.AnalysisHelper$.allowInvokingTransformsInAnalyzer(AnalysisHelper.scala:372)\n",
       "\tat org.apache.spark.sql.catalyst.plans.logical.AnalysisHelper.resolveOperatorsUpWithPruning(AnalysisHelper.scala:137)\n",
       "\tat org.apache.spark.sql.catalyst.plans.logical.AnalysisHelper.resolveOperatorsUpWithPruning$(AnalysisHelper.scala:133)\n",
       "\tat org.apache.spark.sql.catalyst.plans.logical.LogicalPlan.resolveOperatorsUpWithPruning(LogicalPlan.scala:32)\n",
       "\tat org.apache.spark.sql.catalyst.plans.logical.AnalysisHelper.resolveOperatorsUp(AnalysisHelper.scala:114)\n",
       "\tat org.apache.spark.sql.catalyst.plans.logical.AnalysisHelper.resolveOperatorsUp$(AnalysisHelper.scala:113)\n",
       "\tat org.apache.spark.sql.catalyst.plans.logical.LogicalPlan.resolveOperatorsUp(LogicalPlan.scala:32)\n",
       "\tat com.databricks.sql.transaction.tahoe.DeltaAnalysisEdge.apply0(DeltaAnalysisEdge.scala:101)\n",
       "\tat com.databricks.sql.transaction.tahoe.DeltaAnalysisEdge.apply(DeltaAnalysisEdge.scala:70)\n",
       "\tat com.databricks.sql.transaction.tahoe.DeltaAnalysisEdge.apply(DeltaAnalysisEdge.scala:57)\n",
       "\tat org.apache.spark.sql.catalyst.rules.RuleExecutor.$anonfun$execute$4(RuleExecutor.scala:229)\n",
       "\tat com.databricks.spark.util.FrameProfiler$.record(FrameProfiler.scala:80)\n",
       "\tat org.apache.spark.sql.catalyst.rules.RuleExecutor.$anonfun$execute$3(RuleExecutor.scala:229)\n",
       "\tat scala.collection.LinearSeqOptimized.foldLeft(LinearSeqOptimized.scala:126)\n",
       "\tat scala.collection.LinearSeqOptimized.foldLeft$(LinearSeqOptimized.scala:122)\n",
       "\tat scala.collection.immutable.List.foldLeft(List.scala:91)\n",
       "\tat org.apache.spark.sql.catalyst.rules.RuleExecutor.$anonfun$execute$2(RuleExecutor.scala:226)\n",
       "\tat scala.runtime.java8.JFunction0$mcV$sp.apply(JFunction0$mcV$sp.java:23)\n",
       "\tat com.databricks.spark.util.FrameProfiler$.record(FrameProfiler.scala:80)\n",
       "\tat org.apache.spark.sql.catalyst.rules.RuleExecutor.executeBatch$1(RuleExecutor.scala:218)\n",
       "\tat org.apache.spark.sql.catalyst.rules.RuleExecutor.$anonfun$execute$8(RuleExecutor.scala:296)\n",
       "\tat org.apache.spark.sql.catalyst.rules.RuleExecutor.$anonfun$execute$8$adapted(RuleExecutor.scala:296)\n",
       "\tat scala.collection.immutable.List.foreach(List.scala:431)\n",
       "\tat org.apache.spark.sql.catalyst.rules.RuleExecutor.$anonfun$execute$1(RuleExecutor.scala:296)\n",
       "\tat com.databricks.spark.util.FrameProfiler$.record(FrameProfiler.scala:80)\n",
       "\tat org.apache.spark.sql.catalyst.rules.RuleExecutor.execute(RuleExecutor.scala:197)\n",
       "\tat org.apache.spark.sql.catalyst.analysis.Analyzer.executeSameContext(Analyzer.scala:365)\n",
       "\tat org.apache.spark.sql.catalyst.analysis.Analyzer.$anonfun$execute$1(Analyzer.scala:358)\n",
       "\tat org.apache.spark.sql.catalyst.analysis.AnalysisContext$.withNewAnalysisContext(Analyzer.scala:265)\n",
       "\tat org.apache.spark.sql.catalyst.analysis.Analyzer.execute(Analyzer.scala:358)\n",
       "\tat org.apache.spark.sql.catalyst.analysis.Analyzer.execute(Analyzer.scala:286)\n",
       "\tat org.apache.spark.sql.catalyst.rules.RuleExecutor.$anonfun$executeAndTrack$1(RuleExecutor.scala:189)\n",
       "\tat org.apache.spark.sql.catalyst.QueryPlanningTracker$.withTracker(QueryPlanningTracker.scala:165)\n",
       "\tat org.apache.spark.sql.catalyst.rules.RuleExecutor.executeAndTrack(RuleExecutor.scala:189)\n",
       "\tat org.apache.spark.sql.catalyst.analysis.Analyzer.$anonfun$executeAndCheck$1(Analyzer.scala:338)\n",
       "\tat org.apache.spark.sql.catalyst.plans.logical.AnalysisHelper$.markInAnalyzer(AnalysisHelper.scala:379)\n",
       "\tat org.apache.spark.sql.catalyst.analysis.Analyzer.executeAndCheck(Analyzer.scala:337)\n",
       "\tat org.apache.spark.sql.execution.QueryExecution.$anonfun$analyzed$1(QueryExecution.scala:153)\n",
       "\tat com.databricks.spark.util.FrameProfiler$.record(FrameProfiler.scala:80)\n",
       "\tat org.apache.spark.sql.catalyst.QueryPlanningTracker.measurePhase(QueryPlanningTracker.scala:352)\n",
       "\tat org.apache.spark.sql.execution.QueryExecution.$anonfun$executePhase$3(QueryExecution.scala:372)\n",
       "\tat org.apache.spark.sql.execution.QueryExecution$.withInternalError(QueryExecution.scala:819)\n",
       "\tat org.apache.spark.sql.execution.QueryExecution.$anonfun$executePhase$1(QueryExecution.scala:372)\n",
       "\tat org.apache.spark.sql.SparkSession.withActive(SparkSession.scala:1038)\n",
       "\tat org.apache.spark.sql.execution.QueryExecution.executePhase(QueryExecution.scala:369)\n",
       "\tat org.apache.spark.sql.execution.QueryExecution.analyzed$lzycompute(QueryExecution.scala:147)\n",
       "\tat org.apache.spark.sql.execution.QueryExecution.analyzed(QueryExecution.scala:147)\n",
       "\tat org.apache.spark.sql.execution.QueryExecution.assertAnalyzed(QueryExecution.scala:137)\n",
       "\tat org.apache.spark.sql.Dataset$.$anonfun$ofRows$2(Dataset.scala:112)\n",
       "\tat org.apache.spark.sql.SparkSession.withActive(SparkSession.scala:1038)\n",
       "\tat org.apache.spark.sql.SparkSession.$anonfun$withActiveAndFrameProfiler$1(SparkSession.scala:1045)\n",
       "\tat com.databricks.spark.util.FrameProfiler$.record(FrameProfiler.scala:80)\n",
       "\tat org.apache.spark.sql.SparkSession.withActiveAndFrameProfiler(SparkSession.scala:1045)\n",
       "\tat org.apache.spark.sql.Dataset$.ofRows(Dataset.scala:110)\n",
       "\tat org.apache.spark.sql.SparkSession.$anonfun$sql$1(SparkSession.scala:841)\n",
       "\tat org.apache.spark.sql.SparkSession.withActive(SparkSession.scala:1038)\n",
       "\tat org.apache.spark.sql.SparkSession.sql(SparkSession.scala:830)\n",
       "\tat org.apache.spark.sql.SparkSession.sql(SparkSession.scala:864)\n",
       "\tat sun.reflect.GeneratedMethodAccessor361.invoke(Unknown Source)\n",
       "\tat sun.reflect.DelegatingMethodAccessorImpl.invoke(DelegatingMethodAccessorImpl.java:43)\n",
       "\tat java.lang.reflect.Method.invoke(Method.java:498)\n",
       "\tat py4j.reflection.MethodInvoker.invoke(MethodInvoker.java:244)\n",
       "\tat py4j.reflection.ReflectionEngine.invoke(ReflectionEngine.java:380)\n",
       "\tat py4j.Gateway.invoke(Gateway.java:306)\n",
       "\tat py4j.commands.AbstractCommand.invokeMethod(AbstractCommand.java:132)\n",
       "\tat py4j.commands.CallCommand.execute(CallCommand.java:79)\n",
       "\tat py4j.ClientServerConnection.waitForCommands(ClientServerConnection.java:195)\n",
       "\tat py4j.ClientServerConnection.run(ClientServerConnection.java:115)\n",
       "\tat java.lang.Thread.run(Thread.java:750)\n"
      ]
     },
     "metadata": {
      "application/vnd.databricks.v1+output": {
       "arguments": {},
       "data": "\u001b[0;31m---------------------------------------------------------------------------\u001b[0m\n\u001b[0;31mPy4JJavaError\u001b[0m                             Traceback (most recent call last)\nFile \u001b[0;32m<command-1510586113217814>:7\u001b[0m\n\u001b[1;32m      5\u001b[0m     display(df)\n\u001b[1;32m      6\u001b[0m     \u001b[38;5;28;01mreturn\u001b[39;00m df\n\u001b[0;32m----> 7\u001b[0m   _sqldf \u001b[38;5;241m=\u001b[39m \u001b[43m____databricks_percent_sql\u001b[49m\u001b[43m(\u001b[49m\u001b[43m)\u001b[49m\n\u001b[1;32m      8\u001b[0m \u001b[38;5;28;01mfinally\u001b[39;00m:\n\u001b[1;32m      9\u001b[0m   \u001b[38;5;28;01mdel\u001b[39;00m ____databricks_percent_sql\n\nFile \u001b[0;32m<command-1510586113217814>:4\u001b[0m, in \u001b[0;36m____databricks_percent_sql\u001b[0;34m()\u001b[0m\n\u001b[1;32m      2\u001b[0m \u001b[38;5;28;01mdef\u001b[39;00m \u001b[38;5;21m____databricks_percent_sql\u001b[39m():\n\u001b[1;32m      3\u001b[0m   \u001b[38;5;28;01mimport\u001b[39;00m \u001b[38;5;21;01mbase64\u001b[39;00m\n\u001b[0;32m----> 4\u001b[0m   df \u001b[38;5;241m=\u001b[39m \u001b[43mspark\u001b[49m\u001b[38;5;241;43m.\u001b[39;49m\u001b[43msql\u001b[49m\u001b[43m(\u001b[49m\u001b[43mbase64\u001b[49m\u001b[38;5;241;43m.\u001b[39;49m\u001b[43mstandard_b64decode\u001b[49m\u001b[43m(\u001b[49m\u001b[38;5;124;43m\"\u001b[39;49m\u001b[38;5;124;43mREVTQyBkYXRhZGV2LnRlc3RfZHMyMDIzcTQudGVsZW1ldHJ5X3YxX2xpcXVpZA==\u001b[39;49m\u001b[38;5;124;43m\"\u001b[39;49m\u001b[43m)\u001b[49m\u001b[38;5;241;43m.\u001b[39;49m\u001b[43mdecode\u001b[49m\u001b[43m(\u001b[49m\u001b[43m)\u001b[49m\u001b[43m)\u001b[49m\n\u001b[1;32m      5\u001b[0m   display(df)\n\u001b[1;32m      6\u001b[0m   \u001b[38;5;28;01mreturn\u001b[39;00m df\n\nFile \u001b[0;32m/databricks/spark/python/pyspark/instrumentation_utils.py:48\u001b[0m, in \u001b[0;36m_wrap_function.<locals>.wrapper\u001b[0;34m(*args, **kwargs)\u001b[0m\n\u001b[1;32m     46\u001b[0m start \u001b[38;5;241m=\u001b[39m time\u001b[38;5;241m.\u001b[39mperf_counter()\n\u001b[1;32m     47\u001b[0m \u001b[38;5;28;01mtry\u001b[39;00m:\n\u001b[0;32m---> 48\u001b[0m     res \u001b[38;5;241m=\u001b[39m \u001b[43mfunc\u001b[49m\u001b[43m(\u001b[49m\u001b[38;5;241;43m*\u001b[39;49m\u001b[43margs\u001b[49m\u001b[43m,\u001b[49m\u001b[43m \u001b[49m\u001b[38;5;241;43m*\u001b[39;49m\u001b[38;5;241;43m*\u001b[39;49m\u001b[43mkwargs\u001b[49m\u001b[43m)\u001b[49m\n\u001b[1;32m     49\u001b[0m     logger\u001b[38;5;241m.\u001b[39mlog_success(\n\u001b[1;32m     50\u001b[0m         module_name, class_name, function_name, time\u001b[38;5;241m.\u001b[39mperf_counter() \u001b[38;5;241m-\u001b[39m start, signature\n\u001b[1;32m     51\u001b[0m     )\n\u001b[1;32m     52\u001b[0m     \u001b[38;5;28;01mreturn\u001b[39;00m res\n\nFile \u001b[0;32m/databricks/spark/python/pyspark/sql/session.py:1387\u001b[0m, in \u001b[0;36mSparkSession.sql\u001b[0;34m(self, sqlQuery, args, **kwargs)\u001b[0m\n\u001b[1;32m   1385\u001b[0m \u001b[38;5;28;01mtry\u001b[39;00m:\n\u001b[1;32m   1386\u001b[0m     litArgs \u001b[38;5;241m=\u001b[39m {k: _to_java_column(lit(v)) \u001b[38;5;28;01mfor\u001b[39;00m k, v \u001b[38;5;129;01min\u001b[39;00m (args \u001b[38;5;129;01mor\u001b[39;00m {})\u001b[38;5;241m.\u001b[39mitems()}\n\u001b[0;32m-> 1387\u001b[0m     \u001b[38;5;28;01mreturn\u001b[39;00m DataFrame(\u001b[38;5;28;43mself\u001b[39;49m\u001b[38;5;241;43m.\u001b[39;49m\u001b[43m_jsparkSession\u001b[49m\u001b[38;5;241;43m.\u001b[39;49m\u001b[43msql\u001b[49m\u001b[43m(\u001b[49m\u001b[43msqlQuery\u001b[49m\u001b[43m,\u001b[49m\u001b[43m \u001b[49m\u001b[43mlitArgs\u001b[49m\u001b[43m)\u001b[49m, \u001b[38;5;28mself\u001b[39m)\n\u001b[1;32m   1388\u001b[0m \u001b[38;5;28;01mfinally\u001b[39;00m:\n\u001b[1;32m   1389\u001b[0m     \u001b[38;5;28;01mif\u001b[39;00m \u001b[38;5;28mlen\u001b[39m(kwargs) \u001b[38;5;241m>\u001b[39m \u001b[38;5;241m0\u001b[39m:\n\nFile \u001b[0;32m/databricks/spark/python/lib/py4j-0.10.9.5-src.zip/py4j/java_gateway.py:1321\u001b[0m, in \u001b[0;36mJavaMember.__call__\u001b[0;34m(self, *args)\u001b[0m\n\u001b[1;32m   1315\u001b[0m command \u001b[38;5;241m=\u001b[39m proto\u001b[38;5;241m.\u001b[39mCALL_COMMAND_NAME \u001b[38;5;241m+\u001b[39m\\\n\u001b[1;32m   1316\u001b[0m     \u001b[38;5;28mself\u001b[39m\u001b[38;5;241m.\u001b[39mcommand_header \u001b[38;5;241m+\u001b[39m\\\n\u001b[1;32m   1317\u001b[0m     args_command \u001b[38;5;241m+\u001b[39m\\\n\u001b[1;32m   1318\u001b[0m     proto\u001b[38;5;241m.\u001b[39mEND_COMMAND_PART\n\u001b[1;32m   1320\u001b[0m answer \u001b[38;5;241m=\u001b[39m \u001b[38;5;28mself\u001b[39m\u001b[38;5;241m.\u001b[39mgateway_client\u001b[38;5;241m.\u001b[39msend_command(command)\n\u001b[0;32m-> 1321\u001b[0m return_value \u001b[38;5;241m=\u001b[39m \u001b[43mget_return_value\u001b[49m\u001b[43m(\u001b[49m\n\u001b[1;32m   1322\u001b[0m \u001b[43m    \u001b[49m\u001b[43manswer\u001b[49m\u001b[43m,\u001b[49m\u001b[43m \u001b[49m\u001b[38;5;28;43mself\u001b[39;49m\u001b[38;5;241;43m.\u001b[39;49m\u001b[43mgateway_client\u001b[49m\u001b[43m,\u001b[49m\u001b[43m \u001b[49m\u001b[38;5;28;43mself\u001b[39;49m\u001b[38;5;241;43m.\u001b[39;49m\u001b[43mtarget_id\u001b[49m\u001b[43m,\u001b[49m\u001b[43m \u001b[49m\u001b[38;5;28;43mself\u001b[39;49m\u001b[38;5;241;43m.\u001b[39;49m\u001b[43mname\u001b[49m\u001b[43m)\u001b[49m\n\u001b[1;32m   1324\u001b[0m \u001b[38;5;28;01mfor\u001b[39;00m temp_arg \u001b[38;5;129;01min\u001b[39;00m temp_args:\n\u001b[1;32m   1325\u001b[0m     temp_arg\u001b[38;5;241m.\u001b[39m_detach()\n\nFile \u001b[0;32m/databricks/spark/python/pyspark/errors/exceptions.py:228\u001b[0m, in \u001b[0;36mcapture_sql_exception.<locals>.deco\u001b[0;34m(*a, **kw)\u001b[0m\n\u001b[1;32m    226\u001b[0m \u001b[38;5;28;01mdef\u001b[39;00m \u001b[38;5;21mdeco\u001b[39m(\u001b[38;5;241m*\u001b[39ma: Any, \u001b[38;5;241m*\u001b[39m\u001b[38;5;241m*\u001b[39mkw: Any) \u001b[38;5;241m-\u001b[39m\u001b[38;5;241m>\u001b[39m Any:\n\u001b[1;32m    227\u001b[0m     \u001b[38;5;28;01mtry\u001b[39;00m:\n\u001b[0;32m--> 228\u001b[0m         \u001b[38;5;28;01mreturn\u001b[39;00m \u001b[43mf\u001b[49m\u001b[43m(\u001b[49m\u001b[38;5;241;43m*\u001b[39;49m\u001b[43ma\u001b[49m\u001b[43m,\u001b[49m\u001b[43m \u001b[49m\u001b[38;5;241;43m*\u001b[39;49m\u001b[38;5;241;43m*\u001b[39;49m\u001b[43mkw\u001b[49m\u001b[43m)\u001b[49m\n\u001b[1;32m    229\u001b[0m     \u001b[38;5;28;01mexcept\u001b[39;00m Py4JJavaError \u001b[38;5;28;01mas\u001b[39;00m e:\n\u001b[1;32m    230\u001b[0m         converted \u001b[38;5;241m=\u001b[39m convert_exception(e\u001b[38;5;241m.\u001b[39mjava_exception)\n\nFile \u001b[0;32m/databricks/spark/python/lib/py4j-0.10.9.5-src.zip/py4j/protocol.py:326\u001b[0m, in \u001b[0;36mget_return_value\u001b[0;34m(answer, gateway_client, target_id, name)\u001b[0m\n\u001b[1;32m    324\u001b[0m value \u001b[38;5;241m=\u001b[39m OUTPUT_CONVERTER[\u001b[38;5;28mtype\u001b[39m](answer[\u001b[38;5;241m2\u001b[39m:], gateway_client)\n\u001b[1;32m    325\u001b[0m \u001b[38;5;28;01mif\u001b[39;00m answer[\u001b[38;5;241m1\u001b[39m] \u001b[38;5;241m==\u001b[39m REFERENCE_TYPE:\n\u001b[0;32m--> 326\u001b[0m     \u001b[38;5;28;01mraise\u001b[39;00m Py4JJavaError(\n\u001b[1;32m    327\u001b[0m         \u001b[38;5;124m\"\u001b[39m\u001b[38;5;124mAn error occurred while calling \u001b[39m\u001b[38;5;132;01m{0}\u001b[39;00m\u001b[38;5;132;01m{1}\u001b[39;00m\u001b[38;5;132;01m{2}\u001b[39;00m\u001b[38;5;124m.\u001b[39m\u001b[38;5;130;01m\\n\u001b[39;00m\u001b[38;5;124m\"\u001b[39m\u001b[38;5;241m.\u001b[39m\n\u001b[1;32m    328\u001b[0m         \u001b[38;5;28mformat\u001b[39m(target_id, \u001b[38;5;124m\"\u001b[39m\u001b[38;5;124m.\u001b[39m\u001b[38;5;124m\"\u001b[39m, name), value)\n\u001b[1;32m    329\u001b[0m \u001b[38;5;28;01melse\u001b[39;00m:\n\u001b[1;32m    330\u001b[0m     \u001b[38;5;28;01mraise\u001b[39;00m Py4JError(\n\u001b[1;32m    331\u001b[0m         \u001b[38;5;124m\"\u001b[39m\u001b[38;5;124mAn error occurred while calling \u001b[39m\u001b[38;5;132;01m{0}\u001b[39;00m\u001b[38;5;132;01m{1}\u001b[39;00m\u001b[38;5;132;01m{2}\u001b[39;00m\u001b[38;5;124m. Trace:\u001b[39m\u001b[38;5;130;01m\\n\u001b[39;00m\u001b[38;5;132;01m{3}\u001b[39;00m\u001b[38;5;130;01m\\n\u001b[39;00m\u001b[38;5;124m\"\u001b[39m\u001b[38;5;241m.\u001b[39m\n\u001b[1;32m    332\u001b[0m         \u001b[38;5;28mformat\u001b[39m(target_id, \u001b[38;5;124m\"\u001b[39m\u001b[38;5;124m.\u001b[39m\u001b[38;5;124m\"\u001b[39m, name, value))\n\n\u001b[0;31mPy4JJavaError\u001b[0m: An error occurred while calling o390.sql.\n: com.databricks.sql.transaction.tahoe.DeltaTableFeatureException: Unable to read this table because it requires reader table feature(s) that are unsupported by this version of Databricks: v2Checkpoint.\n\tat com.databricks.sql.transaction.tahoe.DeltaErrorsBase.unsupportedReaderTableFeaturesInTableException(DeltaErrors.scala:2140)\n\tat com.databricks.sql.transaction.tahoe.DeltaErrorsBase.unsupportedReaderTableFeaturesInTableException$(DeltaErrors.scala:2136)\n\tat com.databricks.sql.transaction.tahoe.DeltaErrors$.unsupportedReaderTableFeaturesInTableException(DeltaErrors.scala:2744)\n\tat com.databricks.sql.transaction.tahoe.DeltaLog.$anonfun$protocolCheck$3(DeltaLog.scala:421)\n\tat com.databricks.sql.transaction.tahoe.DeltaLog.protocolCheck(DeltaLog.scala:438)\n\tat com.databricks.sql.transaction.tahoe.DeltaLog.protocolRead(DeltaLog.scala:472)\n\tat com.databricks.sql.transaction.tahoe.Snapshot.init(Snapshot.scala:132)\n\tat com.databricks.sql.transaction.tahoe.SnapshotEdge.init(SnapshotEdge.scala:238)\n\tat com.databricks.sql.transaction.tahoe.Snapshot.<init>(Snapshot.scala:570)\n\tat com.databricks.sql.transaction.tahoe.SnapshotEdge.<init>(SnapshotEdge.scala:88)\n\tat com.databricks.sql.transaction.tahoe.SnapshotManagementEdge.$anonfun$createSnapshot$5(SnapshotManagementEdge.scala:261)\n\tat com.databricks.sql.transaction.tahoe.SnapshotManagement.createSnapshotFromGivenOrEquivalentLogSegment(SnapshotManagement.scala:586)\n\tat com.databricks.sql.transaction.tahoe.SnapshotManagement.createSnapshotFromGivenOrEquivalentLogSegment$(SnapshotManagement.scala:574)\n\tat com.databricks.sql.transaction.tahoe.DeltaLog.createSnapshotFromGivenOrEquivalentLogSegment(DeltaLog.scala:92)\n\tat com.databricks.sql.transaction.tahoe.SnapshotManagementEdge.$anonfun$createSnapshot$1(SnapshotManagementEdge.scala:247)\n\tat com.databricks.spark.util.FrameProfiler$.record(FrameProfiler.scala:80)\n\tat com.databricks.sql.transaction.tahoe.SnapshotManagementEdge.createSnapshot(SnapshotManagementEdge.scala:243)\n\tat com.databricks.sql.transaction.tahoe.SnapshotManagementEdge.createSnapshot$(SnapshotManagementEdge.scala:238)\n\tat com.databricks.sql.transaction.tahoe.DeltaLog.createSnapshot(DeltaLog.scala:92)\n\tat com.databricks.sql.transaction.tahoe.SnapshotManagement.$anonfun$createSnapshotAtInitInternal$1(SnapshotManagement.scala:384)\n\tat scala.Option.map(Option.scala:230)\n\tat com.databricks.sql.transaction.tahoe.SnapshotManagement.createSnapshotAtInitInternal(SnapshotManagement.scala:379)\n\tat com.databricks.sql.transaction.tahoe.SnapshotManagement.createSnapshotAtInitInternal$(SnapshotManagement.scala:374)\n\tat com.databricks.sql.transaction.tahoe.DeltaLog.createSnapshotAtInitInternal(DeltaLog.scala:92)\n\tat com.databricks.sql.transaction.tahoe.SnapshotManagementEdge.$anonfun$getSnapshotAtInit$1(SnapshotManagementEdge.scala:352)\n\tat com.databricks.spark.util.FrameProfiler$.record(FrameProfiler.scala:80)\n\tat com.databricks.sql.transaction.tahoe.metering.DeltaLogging.recordFrameProfile(DeltaLogging.scala:265)\n\tat com.databricks.sql.transaction.tahoe.metering.DeltaLogging.recordFrameProfile$(DeltaLogging.scala:263)\n\tat com.databricks.sql.transaction.tahoe.DeltaLog.recordFrameProfile(DeltaLog.scala:92)\n\tat com.databricks.sql.transaction.tahoe.SnapshotManagementEdge.getSnapshotAtInit(SnapshotManagementEdge.scala:331)\n\tat com.databricks.sql.transaction.tahoe.SnapshotManagementEdge.getSnapshotAtInit$(SnapshotManagementEdge.scala:330)\n\tat com.databricks.sql.transaction.tahoe.DeltaLog.getSnapshotAtInit(DeltaLog.scala:92)\n\tat com.databricks.sql.transaction.tahoe.SnapshotManagement.$init$(SnapshotManagement.scala:75)\n\tat com.databricks.sql.transaction.tahoe.DeltaLog.<init>(DeltaLog.scala:99)\n\tat com.databricks.sql.transaction.tahoe.DeltaLog$.$anonfun$apply$5(DeltaLog.scala:1002)\n\tat org.apache.spark.sql.catalyst.plans.logical.AnalysisHelper$.allowInvokingTransformsInAnalyzer(AnalysisHelper.scala:372)\n\tat com.databricks.sql.transaction.tahoe.DeltaLog$.$anonfun$apply$4(DeltaLog.scala:994)\n\tat com.databricks.sql.transaction.tahoe.metering.DeltaLogging.withOperationTypeTag(DeltaLogging.scala:196)\n\tat com.databricks.sql.transaction.tahoe.metering.DeltaLogging.withOperationTypeTag$(DeltaLogging.scala:183)\n\tat com.databricks.sql.transaction.tahoe.DeltaLog$.withOperationTypeTag(DeltaLog.scala:719)\n\tat com.databricks.sql.transaction.tahoe.metering.DeltaLogging.$anonfun$recordDeltaOperationInternal$2(DeltaLogging.scala:160)\n\tat com.databricks.spark.util.FrameProfiler$.record(FrameProfiler.scala:80)\n\tat com.databricks.sql.transaction.tahoe.metering.DeltaLogging.recordFrameProfile(DeltaLogging.scala:265)\n\tat com.databricks.sql.transaction.tahoe.metering.DeltaLogging.recordFrameProfile$(DeltaLogging.scala:263)\n\tat com.databricks.sql.transaction.tahoe.DeltaLog$.recordFrameProfile(DeltaLog.scala:719)\n\tat com.databricks.sql.transaction.tahoe.metering.DeltaLogging.$anonfun$recordDeltaOperationInternal$1(DeltaLogging.scala:159)\n\tat com.databricks.logging.UsageLogging.$anonfun$recordOperation$1(UsageLogging.scala:557)\n\tat com.databricks.logging.UsageLogging.executeThunkAndCaptureResultTags$1(UsageLogging.scala:652)\n\tat com.databricks.logging.UsageLogging.$anonfun$recordOperationWithResultTags$4(UsageLogging.scala:673)\n\tat com.databricks.logging.UsageLogging.$anonfun$withAttributionContext$1(UsageLogging.scala:414)\n\tat scala.util.DynamicVariable.withValue(DynamicVariable.scala:62)\n\tat com.databricks.logging.AttributionContext$.withValue(AttributionContext.scala:158)\n\tat com.databricks.logging.UsageLogging.withAttributionContext(UsageLogging.scala:412)\n\tat com.databricks.logging.UsageLogging.withAttributionContext$(UsageLogging.scala:409)\n\tat com.databricks.spark.util.PublicDBLogging.withAttributionContext(DatabricksSparkUsageLogger.scala:25)\n\tat com.databricks.logging.UsageLogging.withAttributionTags(UsageLogging.scala:457)\n\tat com.databricks.logging.UsageLogging.withAttributionTags$(UsageLogging.scala:442)\n\tat com.databricks.spark.util.PublicDBLogging.withAttributionTags(DatabricksSparkUsageLogger.scala:25)\n\tat com.databricks.logging.UsageLogging.recordOperationWithResultTags(UsageLogging.scala:647)\n\tat com.databricks.logging.UsageLogging.recordOperationWithResultTags$(UsageLogging.scala:566)\n\tat com.databricks.spark.util.PublicDBLogging.recordOperationWithResultTags(DatabricksSparkUsageLogger.scala:25)\n\tat com.databricks.logging.UsageLogging.recordOperation(UsageLogging.scala:557)\n\tat com.databricks.logging.UsageLogging.recordOperation$(UsageLogging.scala:527)\n\tat com.databricks.spark.util.PublicDBLogging.recordOperation(DatabricksSparkUsageLogger.scala:25)\n\tat com.databricks.spark.util.PublicDBLogging.recordOperation0(DatabricksSparkUsageLogger.scala:65)\n\tat com.databricks.spark.util.DatabricksSparkUsageLogger.recordOperation(DatabricksSparkUsageLogger.scala:147)\n\tat com.databricks.spark.util.UsageLogger.recordOperation(UsageLogger.scala:72)\n\tat com.databricks.spark.util.UsageLogger.recordOperation$(UsageLogger.scala:59)\n\tat com.databricks.spark.util.DatabricksSparkUsageLogger.recordOperation(DatabricksSparkUsageLogger.scala:106)\n\tat com.databricks.spark.util.UsageLogging.recordOperation(UsageLogger.scala:433)\n\tat com.databricks.spark.util.UsageLogging.recordOperation$(UsageLogger.scala:412)\n\tat com.databricks.sql.transaction.tahoe.DeltaLog$.recordOperation(DeltaLog.scala:719)\n\tat com.databricks.sql.transaction.tahoe.metering.DeltaLogging.recordDeltaOperationInternal(DeltaLogging.scala:158)\n\tat com.databricks.sql.transaction.tahoe.metering.DeltaLogging.recordDeltaOperation(DeltaLogging.scala:148)\n\tat com.databricks.sql.transaction.tahoe.metering.DeltaLogging.recordDeltaOperation$(DeltaLogging.scala:138)\n\tat com.databricks.sql.transaction.tahoe.DeltaLog$.recordDeltaOperation(DeltaLog.scala:719)\n\tat com.databricks.sql.transaction.tahoe.DeltaLog$.createDeltaLog$1(DeltaLog.scala:994)\n\tat com.databricks.sql.transaction.tahoe.DeltaLog$.$anonfun$apply$7(DeltaLog.scala:1025)\n\tat com.databricks.unity.UCSEphemeralState$Handle.runWith(UCSEphemeralState.scala:41)\n\tat com.databricks.unity.HandleImpl.runWith(UCSHandle.scala:99)\n\tat com.databricks.sql.transaction.tahoe.DeltaLog$.$anonfun$apply$6(DeltaLog.scala:1025)\n\tat com.google.common.cache.LocalCache$LocalManualCache$1.load(LocalCache.java:4724)\n\tat com.google.common.cache.LocalCache$LoadingValueReference.loadFuture(LocalCache.java:3522)\n\tat com.google.common.cache.LocalCache$Segment.loadSync(LocalCache.java:2315)\n\tat com.google.common.cache.LocalCache$Segment.lockedGetOrLoad(LocalCache.java:2278)\n\tat com.google.common.cache.LocalCache$Segment.get(LocalCache.java:2193)\n\tat com.google.common.cache.LocalCache.get(LocalCache.java:3932)\n\tat com.google.common.cache.LocalCache$LocalManualCache.get(LocalCache.java:4721)\n\tat com.databricks.sql.transaction.tahoe.DeltaLog$.getDeltaLogFromCache$1(DeltaLog.scala:1023)\n\tat com.databricks.sql.transaction.tahoe.DeltaLog$.apply(DeltaLog.scala:1039)\n\tat com.databricks.sql.transaction.tahoe.DeltaLog$.forTable(DeltaLog.scala:911)\n\tat com.databricks.sql.transaction.tahoe.DeltaLog$.forTable(DeltaLog.scala:903)\n\tat com.databricks.sql.DatabricksSessionCatalog.$anonfun$getDeltaMetadata$3(DatabricksSessionCatalog.scala:168)\n\tat com.databricks.sql.transaction.tahoe.DeltaLog$.$anonfun$withAdditionalSnapshotInitializationUsageLogData$1(DeltaLog.scala:804)\n\tat org.apache.spark.util.Utils$.tryWithSafeFinally(Utils.scala:1713)\n\tat com.databricks.sql.transaction.tahoe.DeltaLog$.withAdditionalSnapshotInitializationUsageLogData(DeltaLog.scala:805)\n\tat com.databricks.sql.DatabricksSessionCatalog.getDeltaMetadata(DatabricksSessionCatalog.scala:167)\n\tat com.databricks.sql.DatabricksSessionCatalog.getTableRawMetadata(DatabricksSessionCatalog.scala:87)\n\tat com.databricks.sql.DatabricksSessionCatalog.getTableMetadata(DatabricksSessionCatalog.scala:93)\n\tat com.databricks.sql.transaction.tahoe.DeltaTableUtils$.isDeltaTable(DeltaTable.scala:140)\n\tat com.databricks.sql.transaction.tahoe.DeltaTableIdentifier$.$anonfun$apply$1(DeltaTableIdentifier.scala:127)\n\tat com.databricks.spark.util.FrameProfiler$.record(FrameProfiler.scala:80)\n\tat com.databricks.sql.transaction.tahoe.metering.DeltaLogging.recordFrameProfile(DeltaLogging.scala:265)\n\tat com.databricks.sql.transaction.tahoe.metering.DeltaLogging.recordFrameProfile$(DeltaLogging.scala:263)\n\tat com.databricks.sql.transaction.tahoe.DeltaTableIdentifier$.recordFrameProfile(DeltaTableIdentifier.scala:92)\n\tat com.databricks.sql.transaction.tahoe.DeltaTableIdentifier$.apply(DeltaTableIdentifier.scala:125)\n\tat com.databricks.sql.transaction.tahoe.DeltaAnalysisEdge$$anonfun$apply0$1.applyOrElse(DeltaAnalysisEdge.scala:333)\n\tat com.databricks.sql.transaction.tahoe.DeltaAnalysisEdge$$anonfun$apply0$1.applyOrElse(DeltaAnalysisEdge.scala:101)\n\tat org.apache.spark.sql.catalyst.plans.logical.AnalysisHelper.$anonfun$resolveOperatorsUpWithPruning$3(AnalysisHelper.scala:141)\n\tat org.apache.spark.sql.catalyst.trees.CurrentOrigin$.withOrigin(TreeNode.scala:106)\n\tat org.apache.spark.sql.catalyst.plans.logical.AnalysisHelper.$anonfun$resolveOperatorsUpWithPruning$1(AnalysisHelper.scala:141)\n\tat org.apache.spark.sql.catalyst.plans.logical.AnalysisHelper$.allowInvokingTransformsInAnalyzer(AnalysisHelper.scala:372)\n\tat org.apache.spark.sql.catalyst.plans.logical.AnalysisHelper.resolveOperatorsUpWithPruning(AnalysisHelper.scala:137)\n\tat org.apache.spark.sql.catalyst.plans.logical.AnalysisHelper.resolveOperatorsUpWithPruning$(AnalysisHelper.scala:133)\n\tat org.apache.spark.sql.catalyst.plans.logical.LogicalPlan.resolveOperatorsUpWithPruning(LogicalPlan.scala:32)\n\tat org.apache.spark.sql.catalyst.plans.logical.AnalysisHelper.resolveOperatorsUp(AnalysisHelper.scala:114)\n\tat org.apache.spark.sql.catalyst.plans.logical.AnalysisHelper.resolveOperatorsUp$(AnalysisHelper.scala:113)\n\tat org.apache.spark.sql.catalyst.plans.logical.LogicalPlan.resolveOperatorsUp(LogicalPlan.scala:32)\n\tat com.databricks.sql.transaction.tahoe.DeltaAnalysisEdge.apply0(DeltaAnalysisEdge.scala:101)\n\tat com.databricks.sql.transaction.tahoe.DeltaAnalysisEdge.apply(DeltaAnalysisEdge.scala:70)\n\tat com.databricks.sql.transaction.tahoe.DeltaAnalysisEdge.apply(DeltaAnalysisEdge.scala:57)\n\tat org.apache.spark.sql.catalyst.rules.RuleExecutor.$anonfun$execute$4(RuleExecutor.scala:229)\n\tat com.databricks.spark.util.FrameProfiler$.record(FrameProfiler.scala:80)\n\tat org.apache.spark.sql.catalyst.rules.RuleExecutor.$anonfun$execute$3(RuleExecutor.scala:229)\n\tat scala.collection.LinearSeqOptimized.foldLeft(LinearSeqOptimized.scala:126)\n\tat scala.collection.LinearSeqOptimized.foldLeft$(LinearSeqOptimized.scala:122)\n\tat scala.collection.immutable.List.foldLeft(List.scala:91)\n\tat org.apache.spark.sql.catalyst.rules.RuleExecutor.$anonfun$execute$2(RuleExecutor.scala:226)\n\tat scala.runtime.java8.JFunction0$mcV$sp.apply(JFunction0$mcV$sp.java:23)\n\tat com.databricks.spark.util.FrameProfiler$.record(FrameProfiler.scala:80)\n\tat org.apache.spark.sql.catalyst.rules.RuleExecutor.executeBatch$1(RuleExecutor.scala:218)\n\tat org.apache.spark.sql.catalyst.rules.RuleExecutor.$anonfun$execute$8(RuleExecutor.scala:296)\n\tat org.apache.spark.sql.catalyst.rules.RuleExecutor.$anonfun$execute$8$adapted(RuleExecutor.scala:296)\n\tat scala.collection.immutable.List.foreach(List.scala:431)\n\tat org.apache.spark.sql.catalyst.rules.RuleExecutor.$anonfun$execute$1(RuleExecutor.scala:296)\n\tat com.databricks.spark.util.FrameProfiler$.record(FrameProfiler.scala:80)\n\tat org.apache.spark.sql.catalyst.rules.RuleExecutor.execute(RuleExecutor.scala:197)\n\tat org.apache.spark.sql.catalyst.analysis.Analyzer.executeSameContext(Analyzer.scala:365)\n\tat org.apache.spark.sql.catalyst.analysis.Analyzer.$anonfun$execute$1(Analyzer.scala:358)\n\tat org.apache.spark.sql.catalyst.analysis.AnalysisContext$.withNewAnalysisContext(Analyzer.scala:265)\n\tat org.apache.spark.sql.catalyst.analysis.Analyzer.execute(Analyzer.scala:358)\n\tat org.apache.spark.sql.catalyst.analysis.Analyzer.execute(Analyzer.scala:286)\n\tat org.apache.spark.sql.catalyst.rules.RuleExecutor.$anonfun$executeAndTrack$1(RuleExecutor.scala:189)\n\tat org.apache.spark.sql.catalyst.QueryPlanningTracker$.withTracker(QueryPlanningTracker.scala:165)\n\tat org.apache.spark.sql.catalyst.rules.RuleExecutor.executeAndTrack(RuleExecutor.scala:189)\n\tat org.apache.spark.sql.catalyst.analysis.Analyzer.$anonfun$executeAndCheck$1(Analyzer.scala:338)\n\tat org.apache.spark.sql.catalyst.plans.logical.AnalysisHelper$.markInAnalyzer(AnalysisHelper.scala:379)\n\tat org.apache.spark.sql.catalyst.analysis.Analyzer.executeAndCheck(Analyzer.scala:337)\n\tat org.apache.spark.sql.execution.QueryExecution.$anonfun$analyzed$1(QueryExecution.scala:153)\n\tat com.databricks.spark.util.FrameProfiler$.record(FrameProfiler.scala:80)\n\tat org.apache.spark.sql.catalyst.QueryPlanningTracker.measurePhase(QueryPlanningTracker.scala:352)\n\tat org.apache.spark.sql.execution.QueryExecution.$anonfun$executePhase$3(QueryExecution.scala:372)\n\tat org.apache.spark.sql.execution.QueryExecution$.withInternalError(QueryExecution.scala:819)\n\tat org.apache.spark.sql.execution.QueryExecution.$anonfun$executePhase$1(QueryExecution.scala:372)\n\tat org.apache.spark.sql.SparkSession.withActive(SparkSession.scala:1038)\n\tat org.apache.spark.sql.execution.QueryExecution.executePhase(QueryExecution.scala:369)\n\tat org.apache.spark.sql.execution.QueryExecution.analyzed$lzycompute(QueryExecution.scala:147)\n\tat org.apache.spark.sql.execution.QueryExecution.analyzed(QueryExecution.scala:147)\n\tat org.apache.spark.sql.execution.QueryExecution.assertAnalyzed(QueryExecution.scala:137)\n\tat org.apache.spark.sql.Dataset$.$anonfun$ofRows$2(Dataset.scala:112)\n\tat org.apache.spark.sql.SparkSession.withActive(SparkSession.scala:1038)\n\tat org.apache.spark.sql.SparkSession.$anonfun$withActiveAndFrameProfiler$1(SparkSession.scala:1045)\n\tat com.databricks.spark.util.FrameProfiler$.record(FrameProfiler.scala:80)\n\tat org.apache.spark.sql.SparkSession.withActiveAndFrameProfiler(SparkSession.scala:1045)\n\tat org.apache.spark.sql.Dataset$.ofRows(Dataset.scala:110)\n\tat org.apache.spark.sql.SparkSession.$anonfun$sql$1(SparkSession.scala:841)\n\tat org.apache.spark.sql.SparkSession.withActive(SparkSession.scala:1038)\n\tat org.apache.spark.sql.SparkSession.sql(SparkSession.scala:830)\n\tat org.apache.spark.sql.SparkSession.sql(SparkSession.scala:864)\n\tat sun.reflect.GeneratedMethodAccessor361.invoke(Unknown Source)\n\tat sun.reflect.DelegatingMethodAccessorImpl.invoke(DelegatingMethodAccessorImpl.java:43)\n\tat java.lang.reflect.Method.invoke(Method.java:498)\n\tat py4j.reflection.MethodInvoker.invoke(MethodInvoker.java:244)\n\tat py4j.reflection.ReflectionEngine.invoke(ReflectionEngine.java:380)\n\tat py4j.Gateway.invoke(Gateway.java:306)\n\tat py4j.commands.AbstractCommand.invokeMethod(AbstractCommand.java:132)\n\tat py4j.commands.CallCommand.execute(CallCommand.java:79)\n\tat py4j.ClientServerConnection.waitForCommands(ClientServerConnection.java:195)\n\tat py4j.ClientServerConnection.run(ClientServerConnection.java:115)\n\tat java.lang.Thread.run(Thread.java:750)\n",
       "errorSummary": "com.databricks.sql.transaction.tahoe.DeltaTableFeatureException: Unable to read this table because it requires reader table feature(s) that are unsupported by this version of Databricks: v2Checkpoint.",
       "errorTraceType": "ansi",
       "metadata": {},
       "type": "ipynbError"
      }
     },
     "output_type": "display_data"
    }
   ],
   "source": [
    "%sql\n",
    "DESCRIBE DETAIL datadev.test_ds2023q4.telemetry_v1_liquid\n"
   ]
  },
  {
   "cell_type": "markdown",
   "metadata": {
    "application/vnd.databricks.v1+cell": {
     "cellMetadata": {},
     "inputWidgets": {},
     "nuid": "b112d5c7-9fae-421f-8842-0ca6b505babe",
     "showTitle": false,
     "title": ""
    }
   },
   "source": [
    "Remove queries out of our table data range."
   ]
  },
  {
   "cell_type": "code",
   "execution_count": null,
   "metadata": {
    "application/vnd.databricks.v1+cell": {
     "cellMetadata": {
      "byteLimit": 2048000,
      "rowLimit": 10000
     },
     "inputWidgets": {},
     "nuid": "d0c1f5dc-003d-42a5-9c71-60d0cada2401",
     "showTitle": false,
     "title": ""
    }
   },
   "outputs": [
    {
     "name": "stdout",
     "output_type": "stream",
     "text": [
      "Number of examples: 977\n"
     ]
    }
   ],
   "source": [
    "START_DATE = re.compile(r\"business_date [>][=] [\\\"'](\\d+)['\\\"]\")\n",
    "DATE_RANGE = [\n",
    "    \"20231120\",\n",
    "    \"20231121\",\n",
    "    \"20231122\",\n",
    "    \"20231123\",\n",
    "    \"20231124\",\n",
    "    \"20231125\",\n",
    "    \"20231126\",\n",
    "    \"20231127\",\n",
    "]\n",
    "\n",
    "\n",
    "def in_range(query):\n",
    "    matched = START_DATE.search(query)\n",
    "    return matched and matched.group(1) in DATE_RANGE\n",
    "\n",
    "\n",
    "samples.queries = [q for q in samples.queries if in_range(q)]\n",
    "print(\"Number of examples:\", len(samples))\n"
   ]
  },
  {
   "cell_type": "markdown",
   "metadata": {
    "application/vnd.databricks.v1+cell": {
     "cellMetadata": {},
     "inputWidgets": {},
     "nuid": "71a49193-850b-4b2b-8f64-fa158fdeb124",
     "showTitle": false,
     "title": ""
    }
   },
   "source": [
    "## Query Runs\n",
    "\n",
    "The benchmark is run on a 1-worker r6gd.large cluster using Databricks Runtime 12.2 (Scala 2.12, Spark 3.3.2.) Thie version doesn't support row-level concurrency.\n",
    "\n",
    "The order of execution is randomised to ensure a fair comparison."
   ]
  },
  {
   "cell_type": "code",
   "execution_count": null,
   "metadata": {
    "application/vnd.databricks.v1+cell": {
     "cellMetadata": {
      "byteLimit": 2048000,
      "rowLimit": 10000
     },
     "inputWidgets": {},
     "nuid": "794bf2b9-5a24-45f2-9754-ab6005a949d5",
     "showTitle": false,
     "title": ""
    }
   },
   "outputs": [],
   "source": [
    "def execute(query):\n",
    "    \"\"\"Return the execution time of the query in millisecond.\"\"\"\n",
    "    res = spark.sql(query)\n",
    "    start = time.monotonic()\n",
    "    res.collect()\n",
    "    end = time.monotonic()\n",
    "    return (end - start) * 1000\n",
    "\n",
    "\n",
    "def benchmark(a, b):\n",
    "    if rng.random() >= 0.5:\n",
    "        time_a = execute(a)\n",
    "        time_b = execute(b)\n",
    "    else:\n",
    "        time_b = execute(b)\n",
    "        time_a = execute(a)\n",
    "    return [time_a, time_b]\n",
    "\n",
    "\n",
    "# Remove the first run because the cluster was warming up.\n",
    "durations = [benchmark(cla, liq) for cla, liq in zip(samples.classic, samples.liquid)][\n",
    "    1:\n",
    "]\n"
   ]
  },
  {
   "cell_type": "markdown",
   "metadata": {
    "application/vnd.databricks.v1+cell": {
     "cellMetadata": {},
     "inputWidgets": {},
     "nuid": "b847a844-18eb-4bbb-8dc7-848284116b6e",
     "showTitle": false,
     "title": ""
    }
   },
   "source": [
    "## Result\n",
    "\n",
    "We will show the difference between classic partition's and liquid clustering's query time by ploting their distribution."
   ]
  },
  {
   "cell_type": "code",
   "execution_count": null,
   "metadata": {
    "application/vnd.databricks.v1+cell": {
     "cellMetadata": {
      "byteLimit": 2048000,
      "rowLimit": 10000
     },
     "inputWidgets": {},
     "nuid": "a9a4b211-b1ab-4b3e-8c13-f15f8e55ecdb",
     "showTitle": false,
     "title": ""
    }
   },
   "outputs": [
    {
     "data": {
      "image/png": "[encoded data removed]"
     },
     "metadata": {
      "application/vnd.databricks.v1+output": {
       "addedWidgets": {},
       "arguments": {},
       "data": "data:image/png;base64,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\n",
       "datasetInfos": [],
       "metadata": {},
       "removedWidgets": [],
       "type": "image"
      }
     },
     "output_type": "display_data"
    }
   ],
   "source": [
    "df = pd.DataFrame(durations, columns=[\"classic\", \"liquid\"])\n",
    "\n",
    "sns.displot(\n",
    "    pd.melt(df, value_vars=[\"classic\", \"liquid\"]),\n",
    "    x=\"value\",\n",
    "    hue=\"variable\",\n",
    "    element=\"step\",\n",
    ")\n",
    "sns.despine()\n"
   ]
  },
  {
   "cell_type": "markdown",
   "metadata": {
    "application/vnd.databricks.v1+cell": {
     "cellMetadata": {},
     "inputWidgets": {},
     "nuid": "932d29bc-8aee-42da-a238-4341f1893a87",
     "showTitle": false,
     "title": ""
    }
   },
   "source": [
    "And confirm the result by running a pairwise T-test."
   ]
  },
  {
   "cell_type": "code",
   "execution_count": null,
   "metadata": {
    "application/vnd.databricks.v1+cell": {
     "cellMetadata": {
      "byteLimit": 2048000,
      "rowLimit": 10000
     },
     "inputWidgets": {},
     "nuid": "9eb0a9ee-b677-4b2e-9251-4b26ac49495b",
     "showTitle": false,
     "title": ""
    }
   },
   "outputs": [
    {
     "name": "stdout",
     "output_type": "stream",
     "text": [
      "                    Mean    Std\n",
      "Classic Partition:  173.4   47.810\n",
      "Liquid Clustering:  173.6   46.405\n",
      "\n",
      "P-value: 0.899\n",
      "\n"
     ]
    }
   ],
   "source": [
    "desc = f\"\"\"\\\n",
    "                    Mean    Std\n",
    "Classic Partition:  {df[\"classic\"].mean():.1f}   {df[\"classic\"].std():.3f}\n",
    "Liquid Clustering:  {df[\"liquid\"].mean():.1f}   {df[\"liquid\"].std():.3f}\n",
    "\n",
    "P-value: {stats.ttest_rel(df[\"classic\"], df[\"liquid\"]).pvalue:.3f}\n",
    "\"\"\"\n",
    "\n",
    "print(desc)\n"
   ]
  },
  {
   "cell_type": "code",
   "execution_count": null,
   "metadata": {
    "application/vnd.databricks.v1+cell": {
     "cellMetadata": {},
     "inputWidgets": {},
     "nuid": "7e637fa6-604c-4613-aef8-f32391afa716",
     "showTitle": false,
     "title": ""
    }
   },
   "outputs": [],
   "source": []
  }
 ],
 "metadata": {
  "application/vnd.databricks.v1+notebook": {
   "dashboards": [],
   "language": "python",
   "notebookMetadata": {
    "mostRecentlyExecutedCommandWithImplicitDF": {
     "commandId": 1510586113217814,
     "dataframes": [
      "_sqldf"
     ]
    },
    "pythonIndentUnit": 4
   },
   "notebookName": "Liquid Clustering Benchmark",
   "widgets": {}
  },
  "language_info": {
   "name": "python"
  }
 },
 "nbformat": 4,
 "nbformat_minor": 0
}
